{
 "cells": [
  {
   "cell_type": "code",
   "execution_count": 197,
   "id": "949b8639",
   "metadata": {},
   "outputs": [
    {
     "data": {
      "text/html": [
       "<div>\n",
       "<style scoped>\n",
       "    .dataframe tbody tr th:only-of-type {\n",
       "        vertical-align: middle;\n",
       "    }\n",
       "\n",
       "    .dataframe tbody tr th {\n",
       "        vertical-align: top;\n",
       "    }\n",
       "\n",
       "    .dataframe thead th {\n",
       "        text-align: right;\n",
       "    }\n",
       "</style>\n",
       "<table border=\"1\" class=\"dataframe\">\n",
       "  <thead>\n",
       "    <tr style=\"text-align: right;\">\n",
       "      <th></th>\n",
       "      <th>Suburb</th>\n",
       "      <th>Place_id</th>\n",
       "      <th>commercial.shopping_mall</th>\n",
       "      <th>catering</th>\n",
       "      <th>education</th>\n",
       "      <th>entertainment</th>\n",
       "      <th>healthcare</th>\n",
       "      <th>public_transport</th>\n",
       "      <th>office</th>\n",
       "      <th>natural</th>\n",
       "      <th>total</th>\n",
       "    </tr>\n",
       "  </thead>\n",
       "  <tbody>\n",
       "    <tr>\n",
       "      <th>0</th>\n",
       "      <td>Abbotsford</td>\n",
       "      <td>511d4f159df61f6240593efc4685fbe642c0f00101f901...</td>\n",
       "      <td>1</td>\n",
       "      <td>20</td>\n",
       "      <td>4</td>\n",
       "      <td>6</td>\n",
       "      <td>4</td>\n",
       "      <td>20</td>\n",
       "      <td>20</td>\n",
       "      <td>6</td>\n",
       "      <td>81</td>\n",
       "    </tr>\n",
       "    <tr>\n",
       "      <th>1</th>\n",
       "      <td>Aberfeldie</td>\n",
       "      <td>5104c2f3f7b71c62405947b30d373be142c0f00101f901...</td>\n",
       "      <td>0</td>\n",
       "      <td>6</td>\n",
       "      <td>4</td>\n",
       "      <td>1</td>\n",
       "      <td>0</td>\n",
       "      <td>0</td>\n",
       "      <td>0</td>\n",
       "      <td>2</td>\n",
       "      <td>13</td>\n",
       "    </tr>\n",
       "    <tr>\n",
       "      <th>2</th>\n",
       "      <td>Aintree</td>\n",
       "      <td>51c04b5fbe6b15624059133b641415dc42c0f00101f901...</td>\n",
       "      <td>0</td>\n",
       "      <td>1</td>\n",
       "      <td>2</td>\n",
       "      <td>0</td>\n",
       "      <td>0</td>\n",
       "      <td>19</td>\n",
       "      <td>0</td>\n",
       "      <td>10</td>\n",
       "      <td>32</td>\n",
       "    </tr>\n",
       "    <tr>\n",
       "      <th>3</th>\n",
       "      <td>Aireys inlet</td>\n",
       "      <td>5161a5828a6a03624059056ad6be253b43c0f00101f901...</td>\n",
       "      <td>0</td>\n",
       "      <td>6</td>\n",
       "      <td>1</td>\n",
       "      <td>0</td>\n",
       "      <td>1</td>\n",
       "      <td>4</td>\n",
       "      <td>0</td>\n",
       "      <td>20</td>\n",
       "      <td>32</td>\n",
       "    </tr>\n",
       "    <tr>\n",
       "      <th>4</th>\n",
       "      <td>Airport west</td>\n",
       "      <td>5195e6a095451c624059cba4e1ef72dc42c0f00101f901...</td>\n",
       "      <td>1</td>\n",
       "      <td>8</td>\n",
       "      <td>3</td>\n",
       "      <td>1</td>\n",
       "      <td>4</td>\n",
       "      <td>20</td>\n",
       "      <td>0</td>\n",
       "      <td>1</td>\n",
       "      <td>38</td>\n",
       "    </tr>\n",
       "  </tbody>\n",
       "</table>\n",
       "</div>"
      ],
      "text/plain": [
       "         Suburb                                           Place_id  \\\n",
       "0    Abbotsford  511d4f159df61f6240593efc4685fbe642c0f00101f901...   \n",
       "1    Aberfeldie  5104c2f3f7b71c62405947b30d373be142c0f00101f901...   \n",
       "2       Aintree  51c04b5fbe6b15624059133b641415dc42c0f00101f901...   \n",
       "3  Aireys inlet  5161a5828a6a03624059056ad6be253b43c0f00101f901...   \n",
       "4  Airport west  5195e6a095451c624059cba4e1ef72dc42c0f00101f901...   \n",
       "\n",
       "   commercial.shopping_mall  catering  education  entertainment  healthcare  \\\n",
       "0                         1        20          4              6           4   \n",
       "1                         0         6          4              1           0   \n",
       "2                         0         1          2              0           0   \n",
       "3                         0         6          1              0           1   \n",
       "4                         1         8          3              1           4   \n",
       "\n",
       "   public_transport  office  natural  total  \n",
       "0                20      20        6     81  \n",
       "1                 0       0        2     13  \n",
       "2                19       0       10     32  \n",
       "3                 4       0       20     32  \n",
       "4                20       0        1     38  "
      ]
     },
     "execution_count": 197,
     "metadata": {},
     "output_type": "execute_result"
    }
   ],
   "source": [
    "# Dependencies\n",
    "from matplotlib import pyplot as plt\n",
    "from scipy import stats\n",
    "import scipy.stats as st\n",
    "from scipy.stats import linregress\n",
    "import numpy as np\n",
    "import pandas as pd\n",
    "from pathlib import Path\n",
    "\n",
    "# Load suburb facilities into a pandas DataFrame\n",
    "csv_path = Path(\"Resources/suburbs_facilities.csv\")\n",
    "suburbs_df = pd.read_csv(csv_path)\n",
    "\n",
    "suburbs_df.head()"
   ]
  },
  {
   "cell_type": "code",
   "execution_count": 198,
   "id": "1b2891b1",
   "metadata": {},
   "outputs": [
    {
     "data": {
      "text/html": [
       "<div>\n",
       "<style scoped>\n",
       "    .dataframe tbody tr th:only-of-type {\n",
       "        vertical-align: middle;\n",
       "    }\n",
       "\n",
       "    .dataframe tbody tr th {\n",
       "        vertical-align: top;\n",
       "    }\n",
       "\n",
       "    .dataframe thead th {\n",
       "        text-align: right;\n",
       "    }\n",
       "</style>\n",
       "<table border=\"1\" class=\"dataframe\">\n",
       "  <thead>\n",
       "    <tr style=\"text-align: right;\">\n",
       "      <th></th>\n",
       "      <th>Suburbs</th>\n",
       "      <th>2012</th>\n",
       "      <th>2013</th>\n",
       "      <th>2014</th>\n",
       "      <th>2015</th>\n",
       "      <th>2016</th>\n",
       "      <th>2017</th>\n",
       "      <th>2018</th>\n",
       "      <th>2019</th>\n",
       "      <th>2020</th>\n",
       "      <th>2021</th>\n",
       "      <th>2022</th>\n",
       "      <th>prelim 2023</th>\n",
       "      <th>change (2021-2022)</th>\n",
       "      <th>change(2021-2022)</th>\n",
       "      <th>Growth PA</th>\n",
       "    </tr>\n",
       "  </thead>\n",
       "  <tbody>\n",
       "    <tr>\n",
       "      <th>0</th>\n",
       "      <td>ABBOTSFORD</td>\n",
       "      <td>714000</td>\n",
       "      <td>792500</td>\n",
       "      <td>862500</td>\n",
       "      <td>925000</td>\n",
       "      <td>1187500</td>\n",
       "      <td>1280000</td>\n",
       "      <td>1192500</td>\n",
       "      <td>1050000</td>\n",
       "      <td>1200000</td>\n",
       "      <td>1365000</td>\n",
       "      <td>1341500</td>\n",
       "      <td>1409000.0</td>\n",
       "      <td>-2.0</td>\n",
       "      <td>88.0</td>\n",
       "      <td>6.5</td>\n",
       "    </tr>\n",
       "    <tr>\n",
       "      <th>1</th>\n",
       "      <td>ABERFELDIE</td>\n",
       "      <td>852500</td>\n",
       "      <td>947500</td>\n",
       "      <td>1045000</td>\n",
       "      <td>1207500</td>\n",
       "      <td>1300000</td>\n",
       "      <td>1471000</td>\n",
       "      <td>1498500</td>\n",
       "      <td>1390000</td>\n",
       "      <td>1520000</td>\n",
       "      <td>1858000</td>\n",
       "      <td>1860000</td>\n",
       "      <td>NaN</td>\n",
       "      <td>0.0</td>\n",
       "      <td>118.0</td>\n",
       "      <td>8.1</td>\n",
       "    </tr>\n",
       "    <tr>\n",
       "      <th>2</th>\n",
       "      <td>AINTREE</td>\n",
       "      <td>-</td>\n",
       "      <td>-</td>\n",
       "      <td>-</td>\n",
       "      <td>600000</td>\n",
       "      <td>600000</td>\n",
       "      <td>571000</td>\n",
       "      <td>557500</td>\n",
       "      <td>575000</td>\n",
       "      <td>630000</td>\n",
       "      <td>719000</td>\n",
       "      <td>760000</td>\n",
       "      <td>710000.0</td>\n",
       "      <td>6.0</td>\n",
       "      <td>NaN</td>\n",
       "      <td>NaN</td>\n",
       "    </tr>\n",
       "    <tr>\n",
       "      <th>3</th>\n",
       "      <td>AIREYS INLET</td>\n",
       "      <td>634000</td>\n",
       "      <td>664000</td>\n",
       "      <td>625500</td>\n",
       "      <td>680000</td>\n",
       "      <td>715000</td>\n",
       "      <td>737500</td>\n",
       "      <td>869000</td>\n",
       "      <td>985000</td>\n",
       "      <td>1132500</td>\n",
       "      <td>1775000</td>\n",
       "      <td>1725000</td>\n",
       "      <td>1570000.0</td>\n",
       "      <td>-3.0</td>\n",
       "      <td>172.0</td>\n",
       "      <td>10.5</td>\n",
       "    </tr>\n",
       "    <tr>\n",
       "      <th>4</th>\n",
       "      <td>AIRPORT WEST</td>\n",
       "      <td>495000</td>\n",
       "      <td>532000</td>\n",
       "      <td>575000</td>\n",
       "      <td>635000</td>\n",
       "      <td>742000</td>\n",
       "      <td>845000</td>\n",
       "      <td>845000</td>\n",
       "      <td>795000</td>\n",
       "      <td>812500</td>\n",
       "      <td>965000</td>\n",
       "      <td>926500</td>\n",
       "      <td>795000.0</td>\n",
       "      <td>-4.0</td>\n",
       "      <td>87.0</td>\n",
       "      <td>6.5</td>\n",
       "    </tr>\n",
       "  </tbody>\n",
       "</table>\n",
       "</div>"
      ],
      "text/plain": [
       "        Suburbs    2012    2013     2014     2015     2016     2017     2018  \\\n",
       "0    ABBOTSFORD  714000  792500   862500   925000  1187500  1280000  1192500   \n",
       "1    ABERFELDIE  852500  947500  1045000  1207500  1300000  1471000  1498500   \n",
       "2       AINTREE       -       -        -   600000   600000   571000   557500   \n",
       "3  AIREYS INLET  634000  664000   625500   680000   715000   737500   869000   \n",
       "4  AIRPORT WEST  495000  532000   575000   635000   742000   845000   845000   \n",
       "\n",
       "      2019     2020     2021     2022  prelim 2023  change (2021-2022)  \\\n",
       "0  1050000  1200000  1365000  1341500    1409000.0                -2.0   \n",
       "1  1390000  1520000  1858000  1860000          NaN                 0.0   \n",
       "2   575000   630000   719000   760000     710000.0                 6.0   \n",
       "3   985000  1132500  1775000  1725000    1570000.0                -3.0   \n",
       "4   795000   812500   965000   926500     795000.0                -4.0   \n",
       "\n",
       "   change(2021-2022)  Growth PA  \n",
       "0               88.0        6.5  \n",
       "1              118.0        8.1  \n",
       "2                NaN        NaN  \n",
       "3              172.0       10.5  \n",
       "4               87.0        6.5  "
      ]
     },
     "execution_count": 198,
     "metadata": {},
     "output_type": "execute_result"
    }
   ],
   "source": [
    "# Load median house prices into a pandas DataFrame\n",
    "excel_path = Path(\"Resources/Suburbs.xlsx\")\n",
    "prices_df = pd.read_excel(excel_path)\n",
    "\n",
    "prices_df.head()"
   ]
  },
  {
   "cell_type": "code",
   "execution_count": 199,
   "id": "b35c56c6",
   "metadata": {},
   "outputs": [
    {
     "data": {
      "text/html": [
       "<div>\n",
       "<style scoped>\n",
       "    .dataframe tbody tr th:only-of-type {\n",
       "        vertical-align: middle;\n",
       "    }\n",
       "\n",
       "    .dataframe tbody tr th {\n",
       "        vertical-align: top;\n",
       "    }\n",
       "\n",
       "    .dataframe thead th {\n",
       "        text-align: right;\n",
       "    }\n",
       "</style>\n",
       "<table border=\"1\" class=\"dataframe\">\n",
       "  <thead>\n",
       "    <tr style=\"text-align: right;\">\n",
       "      <th></th>\n",
       "      <th>Suburb</th>\n",
       "      <th>Place_id</th>\n",
       "      <th>commercial.shopping_mall</th>\n",
       "      <th>catering</th>\n",
       "      <th>education</th>\n",
       "      <th>entertainment</th>\n",
       "      <th>healthcare</th>\n",
       "      <th>public_transport</th>\n",
       "      <th>office</th>\n",
       "      <th>natural</th>\n",
       "      <th>total</th>\n",
       "      <th>prices</th>\n",
       "    </tr>\n",
       "  </thead>\n",
       "  <tbody>\n",
       "    <tr>\n",
       "      <th>0</th>\n",
       "      <td>Abbotsford</td>\n",
       "      <td>511d4f159df61f6240593efc4685fbe642c0f00101f901...</td>\n",
       "      <td>1</td>\n",
       "      <td>20</td>\n",
       "      <td>4</td>\n",
       "      <td>6</td>\n",
       "      <td>4</td>\n",
       "      <td>20</td>\n",
       "      <td>20</td>\n",
       "      <td>6</td>\n",
       "      <td>81</td>\n",
       "      <td>1341500.0</td>\n",
       "    </tr>\n",
       "    <tr>\n",
       "      <th>1</th>\n",
       "      <td>Aberfeldie</td>\n",
       "      <td>5104c2f3f7b71c62405947b30d373be142c0f00101f901...</td>\n",
       "      <td>0</td>\n",
       "      <td>6</td>\n",
       "      <td>4</td>\n",
       "      <td>1</td>\n",
       "      <td>0</td>\n",
       "      <td>0</td>\n",
       "      <td>0</td>\n",
       "      <td>2</td>\n",
       "      <td>13</td>\n",
       "      <td>1860000.0</td>\n",
       "    </tr>\n",
       "    <tr>\n",
       "      <th>2</th>\n",
       "      <td>Aintree</td>\n",
       "      <td>51c04b5fbe6b15624059133b641415dc42c0f00101f901...</td>\n",
       "      <td>0</td>\n",
       "      <td>1</td>\n",
       "      <td>2</td>\n",
       "      <td>0</td>\n",
       "      <td>0</td>\n",
       "      <td>19</td>\n",
       "      <td>0</td>\n",
       "      <td>10</td>\n",
       "      <td>32</td>\n",
       "      <td>760000.0</td>\n",
       "    </tr>\n",
       "    <tr>\n",
       "      <th>3</th>\n",
       "      <td>Aireys inlet</td>\n",
       "      <td>5161a5828a6a03624059056ad6be253b43c0f00101f901...</td>\n",
       "      <td>0</td>\n",
       "      <td>6</td>\n",
       "      <td>1</td>\n",
       "      <td>0</td>\n",
       "      <td>1</td>\n",
       "      <td>4</td>\n",
       "      <td>0</td>\n",
       "      <td>20</td>\n",
       "      <td>32</td>\n",
       "      <td>1725000.0</td>\n",
       "    </tr>\n",
       "    <tr>\n",
       "      <th>4</th>\n",
       "      <td>Airport west</td>\n",
       "      <td>5195e6a095451c624059cba4e1ef72dc42c0f00101f901...</td>\n",
       "      <td>1</td>\n",
       "      <td>8</td>\n",
       "      <td>3</td>\n",
       "      <td>1</td>\n",
       "      <td>4</td>\n",
       "      <td>20</td>\n",
       "      <td>0</td>\n",
       "      <td>1</td>\n",
       "      <td>38</td>\n",
       "      <td>926500.0</td>\n",
       "    </tr>\n",
       "  </tbody>\n",
       "</table>\n",
       "</div>"
      ],
      "text/plain": [
       "         Suburb                                           Place_id  \\\n",
       "0    Abbotsford  511d4f159df61f6240593efc4685fbe642c0f00101f901...   \n",
       "1    Aberfeldie  5104c2f3f7b71c62405947b30d373be142c0f00101f901...   \n",
       "2       Aintree  51c04b5fbe6b15624059133b641415dc42c0f00101f901...   \n",
       "3  Aireys inlet  5161a5828a6a03624059056ad6be253b43c0f00101f901...   \n",
       "4  Airport west  5195e6a095451c624059cba4e1ef72dc42c0f00101f901...   \n",
       "\n",
       "   commercial.shopping_mall  catering  education  entertainment  healthcare  \\\n",
       "0                         1        20          4              6           4   \n",
       "1                         0         6          4              1           0   \n",
       "2                         0         1          2              0           0   \n",
       "3                         0         6          1              0           1   \n",
       "4                         1         8          3              1           4   \n",
       "\n",
       "   public_transport  office  natural  total     prices  \n",
       "0                20      20        6     81  1341500.0  \n",
       "1                 0       0        2     13  1860000.0  \n",
       "2                19       0       10     32   760000.0  \n",
       "3                 4       0       20     32  1725000.0  \n",
       "4                20       0        1     38   926500.0  "
      ]
     },
     "execution_count": 199,
     "metadata": {},
     "output_type": "execute_result"
    }
   ],
   "source": [
    "# Create a new Data Frame with just the total number of facilities and 2022 prices\n",
    "prices_df[2022] = pd.to_numeric(prices_df[2022], errors='coerce')\n",
    "suburbs_df['prices'] = prices_df[2022]\n",
    "\n",
    "# Drop NA and 0 values \n",
    "facilities_df = suburbs_df.loc[(suburbs_df['commercial.shopping_mall'] > 0) &\n",
    "                                              (suburbs_df['catering'] > 0) &\n",
    "                                              (suburbs_df['education'] > 0) &\n",
    "                                              (suburbs_df['entertainment'] > 0) &\n",
    "                                              (suburbs_df['healthcare'] > 0) &\n",
    "                                              (suburbs_df['public_transport'] > 0) &\n",
    "                                              (suburbs_df['office'] > 0) &\n",
    "                                              (suburbs_df['natural'] > 0) &\n",
    "                                              (suburbs_df['total'] > 0) &\n",
    "                                              (suburbs_df['prices'] > 0)]\n",
    "suburbs_df = suburbs_df.loc[(suburbs_df['total'] > 0) &\n",
    "                            (suburbs_df['prices'] > 0)]\n",
    "suburbs_df.dropna(how='all')\n",
    "facilities_df.dropna(how='all')\n",
    "suburbs_df.head()"
   ]
  },
  {
   "cell_type": "code",
   "execution_count": 200,
   "id": "7af79de1",
   "metadata": {},
   "outputs": [
    {
     "name": "stdout",
     "output_type": "stream",
     "text": [
      "The top five suburbs with the highest median prices for 2022 are: \n",
      "Toorak with a median price of 6200000.0\n",
      "Portsea with a median price of 3850000.0\n",
      "Canterbury with a median price of 3490000.0\n",
      "Brighton with a median price of 3450000.0\n",
      "Flinders with a median price of 3342000.0\n",
      "The median price overall was 765000.0\n"
     ]
    }
   ],
   "source": [
    "# Print the top five suburbs with the highest median prices for 2022\n",
    "top_five_prices = prices_df.sort_values(by=2022, ascending=False)\n",
    "top_five_prices = top_five_prices.iloc[:5]\n",
    "print(\"The top five suburbs with the highest median prices for 2022 are: \")\n",
    "for index, row in top_five_prices.iterrows():\n",
    "    print(f\"{row['Suburbs'].lower().capitalize()} with a median price of {row[2022]}\")\n",
    "\n",
    "print(f\"The median price overall was {prices_df[2022].median()}\")"
   ]
  },
  {
   "cell_type": "code",
   "execution_count": 201,
   "id": "d968afca",
   "metadata": {},
   "outputs": [
    {
     "name": "stdout",
     "output_type": "stream",
     "text": [
      "The top five suburbs with the most total facilities are: \n",
      "Westgarth with 160 facilities\n",
      "Garden city with 155 facilities\n",
      "Coburg east with 153 facilities\n",
      "Kew north with 150 facilities\n",
      "Syndal with 148 facilities\n",
      "The average number of facilities was 47.765776699029125\n"
     ]
    }
   ],
   "source": [
    "# Print the top five suburbs with the most total facilities\n",
    "top_five_facilities = suburbs_df.sort_values(by='total', ascending=False)\n",
    "top_five_facilities = top_five_facilities.iloc[:5]\n",
    "print(\"The top five suburbs with the most total facilities are: \")\n",
    "for index, row in top_five_facilities.iterrows():\n",
    "    print(f\"{row['Suburb']} with {row['total']} facilities\")\n",
    "\n",
    "print(f\"The average number of facilities was {suburbs_df['total'].mean()}\")"
   ]
  },
  {
   "cell_type": "code",
   "execution_count": 202,
   "id": "445750df",
   "metadata": {},
   "outputs": [
    {
     "data": {
      "image/png": "[encoded data removed]",
      "text/plain": [
       "<Figure size 432x288 with 1 Axes>"
      ]
     },
     "metadata": {
      "needs_background": "light"
     },
     "output_type": "display_data"
    },
    {
     "name": "stdout",
     "output_type": "stream",
     "text": [
      "The correlation coefficient between house prices and the total number of facilities is 0.16 (slightly positive; very weak)\n"
     ]
    }
   ],
   "source": [
    "# Generate a scatter plot of total no. of facilities vs. median house prices\n",
    "x_axis = suburbs_df[\"total\"]\n",
    "y_axis = suburbs_df[\"prices\"]\n",
    "\n",
    "# Calculate the correlation coefficient and a linear regression model\n",
    "(slope, intercept, rvalue, pvalue, stderr) = linregress(x_axis, y_axis)\n",
    "regress_values = x_axis * slope + intercept\n",
    "line_eq = \"y = \" + str(round(slope,2)) + \"x + \" + str(round(intercept,2))\n",
    "plt.scatter(x_axis, y_axis)\n",
    "plt.plot(x_axis,regress_values,\"r-\")\n",
    "\n",
    "# Display line\n",
    "plt.annotate(line_eq,(0,50),fontsize=15,color=\"red\")\n",
    "\n",
    "# Add title and axis labels\n",
    "plt.title(\"Total Facilities v House Prices\")\n",
    "plt.xlabel(\"Total number of facilities\")\n",
    "plt.ylabel(\"Median House Price\")\n",
    "\n",
    "# Show plot and correlation coefficient\n",
    "plt.show()\n",
    "print(f\"The correlation coefficient between house prices and the total number of facilities is {round(st.pearsonr(x_axis, y_axis)[0],2)} (slightly positive; very weak)\")"
   ]
  },
  {
   "cell_type": "code",
   "execution_count": 203,
   "id": "b0bfbd10",
   "metadata": {},
   "outputs": [
    {
     "data": {
      "text/plain": [
       "Ttest_indResult(statistic=-46.10348584365571, pvalue=2.87896059885677e-230)"
      ]
     },
     "execution_count": 203,
     "metadata": {},
     "output_type": "execute_result"
    }
   ],
   "source": [
    "# Conduct an independent t-test for median prices and total number of facilities\n",
    "stats.ttest_ind(suburbs_df[\"total\"], suburbs_df[\"prices\"], equal_var=False)"
   ]
  },
  {
   "cell_type": "code",
   "execution_count": 204,
   "id": "733a15fa",
   "metadata": {},
   "outputs": [
    {
     "data": {
      "image/png": "[encoded data removed]",
      "text/plain": [
       "<Figure size 432x288 with 1 Axes>"
      ]
     },
     "metadata": {
      "needs_background": "light"
     },
     "output_type": "display_data"
    },
    {
     "name": "stdout",
     "output_type": "stream",
     "text": [
      "Highest: natural\n",
      "Lowest: shopping\n"
     ]
    }
   ],
   "source": [
    "# Compare the total number of each type of facility\n",
    "# Add x and y labels\n",
    "facilities_total = [suburbs_df['commercial.shopping_mall'].sum(),\n",
    "                    suburbs_df['catering'].sum(),\n",
    "                    suburbs_df['education'].sum(),\n",
    "                    suburbs_df['entertainment'].sum(),\n",
    "                    suburbs_df['healthcare'].sum(),\n",
    "                    suburbs_df['public_transport'].sum(),\n",
    "                    suburbs_df['office'].sum(),\n",
    "                    suburbs_df['natural'].sum()]\n",
    "\n",
    "facilities = ['shopping', 'catering', 'education', 'entertainment',\n",
    "              'healthcare', 'public transport', 'office', 'natural']\n",
    "x_axis = np.arange(len(facilities_total))\n",
    "plt.bar(x_axis, facilities_total, color=\"b\")\n",
    "tick_locations = [value for value in x_axis]\n",
    "plt.xticks(tick_locations, facilities, rotation=45)\n",
    "plt.show()\n",
    "print(\"Highest: natural\")\n",
    "print(\"Lowest: shopping\")"
   ]
  },
  {
   "cell_type": "code",
   "execution_count": 205,
   "id": "69330283",
   "metadata": {},
   "outputs": [
    {
     "data": {
      "image/png": "[encoded data removed]",
      "text/plain": [
       "<Figure size 432x288 with 1 Axes>"
      ]
     },
     "metadata": {
      "needs_background": "light"
     },
     "output_type": "display_data"
    },
    {
     "name": "stdout",
     "output_type": "stream",
     "text": [
      "The correlation coefficient between house prices and the total number of facilities is 0.11 (slightly positive; very weak)\n"
     ]
    }
   ],
   "source": [
    "# Create a scatter plot for each type of facility and calculate correlation\n",
    "shopping_mall_x = facilities_df['commercial.shopping_mall']\n",
    "catering_x = facilities_df['catering']\n",
    "education_x = facilities_df['education']\n",
    "entertainment_x = facilities_df['entertainment']\n",
    "healthcare_x = facilities_df['healthcare']\n",
    "public_transport_x = facilities_df['public_transport']\n",
    "office_x = facilities_df['office']\n",
    "natural_x = facilities_df['natural']\n",
    "\n",
    "y = facilities_df['prices']\n",
    "\n",
    "plt.scatter(shopping_mall_x, y)\n",
    "plt.title(\"Number of shopping malls v. House prices\")\n",
    "plt.xlabel(\"Number of shopping malls\")\n",
    "plt.ylabel(\"House price\")\n",
    "plt.show()\n",
    "print(f\"The correlation coefficient between house prices and the total number of facilities is {round(st.pearsonr(shopping_mall_x, y)[0],2)} (slightly positive; very weak)\")"
   ]
  },
  {
   "cell_type": "code",
   "execution_count": 206,
   "id": "73bf58c2",
   "metadata": {},
   "outputs": [
    {
     "data": {
      "image/png": "[encoded data removed]",
      "text/plain": [
       "<Figure size 432x288 with 1 Axes>"
      ]
     },
     "metadata": {
      "needs_background": "light"
     },
     "output_type": "display_data"
    },
    {
     "name": "stdout",
     "output_type": "stream",
     "text": [
      "The correlation coefficient between house prices and the total number of facilities is -0.02 (slightly negative; negligible)\n"
     ]
    }
   ],
   "source": [
    "plt.scatter(catering_x, y)\n",
    "plt.title(\"Catering v. House prices\")\n",
    "plt.xlabel(\"Catering\")\n",
    "plt.ylabel(\"House price\")\n",
    "plt.show()\n",
    "print(f\"The correlation coefficient between house prices and the total number of facilities is {round(st.pearsonr(catering_x, y)[0],2)} (slightly negative; negligible)\")"
   ]
  },
  {
   "cell_type": "code",
   "execution_count": 207,
   "id": "7901fbdd",
   "metadata": {},
   "outputs": [
    {
     "data": {
      "image/png": "[encoded data removed]",
      "text/plain": [
       "<Figure size 432x288 with 1 Axes>"
      ]
     },
     "metadata": {
      "needs_background": "light"
     },
     "output_type": "display_data"
    },
    {
     "name": "stdout",
     "output_type": "stream",
     "text": [
      "The correlation coefficient between house prices and the total number of facilities is -0.2 (slightly negative; very weak)\n"
     ]
    }
   ],
   "source": [
    "plt.scatter(education_x, y)\n",
    "plt.title(\"Number of education facilities v. House prices\")\n",
    "plt.xlabel(\"Number of education facilities\")\n",
    "plt.ylabel(\"House price\")\n",
    "plt.show()\n",
    "print(f\"The correlation coefficient between house prices and the total number of facilities is {round(st.pearsonr(education_x, y)[0],2)} (slightly negative; very weak)\")"
   ]
  },
  {
   "cell_type": "code",
   "execution_count": 208,
   "id": "1a229a0a",
   "metadata": {},
   "outputs": [
    {
     "data": {
      "image/png": "[encoded data removed]",
      "text/plain": [
       "<Figure size 432x288 with 1 Axes>"
      ]
     },
     "metadata": {
      "needs_background": "light"
     },
     "output_type": "display_data"
    },
    {
     "name": "stdout",
     "output_type": "stream",
     "text": [
      "The correlation coefficient between house prices and the total number of facilities is -0.05 (slightly negative; negligible)\n"
     ]
    }
   ],
   "source": [
    "plt.scatter(entertainment_x, y)\n",
    "plt.title(\"Number of entertainment facilities v. House prices\")\n",
    "plt.xlabel(\"Number of entertainment facilities\")\n",
    "plt.ylabel(\"House price\")\n",
    "plt.show()\n",
    "print(f\"The correlation coefficient between house prices and the total number of facilities is {round(st.pearsonr(entertainment_x, y)[0],2)} (slightly negative; negligible)\")"
   ]
  },
  {
   "cell_type": "code",
   "execution_count": 209,
   "id": "5b6dfb32",
   "metadata": {},
   "outputs": [
    {
     "data": {
      "image/png": "[encoded data removed]",
      "text/plain": [
       "<Figure size 432x288 with 1 Axes>"
      ]
     },
     "metadata": {
      "needs_background": "light"
     },
     "output_type": "display_data"
    },
    {
     "name": "stdout",
     "output_type": "stream",
     "text": [
      "The correlation coefficient between house prices and the total number of facilities is 0.13 (slightly positive; very weak)\n"
     ]
    }
   ],
   "source": [
    "plt.scatter(healthcare_x, y)\n",
    "plt.title(\"Number of healthcare facilities v. House prices\")\n",
    "plt.xlabel(\"Number of healthcare facilities\")\n",
    "plt.ylabel(\"House price\")\n",
    "plt.show()\n",
    "print(f\"The correlation coefficient between house prices and the total number of facilities is {round(st.pearsonr(healthcare_x, y)[0],2)} (slightly positive; very weak)\")"
   ]
  },
  {
   "cell_type": "code",
   "execution_count": 210,
   "id": "d67de72b",
   "metadata": {},
   "outputs": [
    {
     "data": {
      "image/png": "[encoded data removed]",
      "text/plain": [
       "<Figure size 432x288 with 1 Axes>"
      ]
     },
     "metadata": {
      "needs_background": "light"
     },
     "output_type": "display_data"
    },
    {
     "name": "stdout",
     "output_type": "stream",
     "text": [
      "The correlation coefficient between house prices and the total number of facilities is 0.18 (slightly positive; very weak)\n"
     ]
    }
   ],
   "source": [
    "plt.scatter(public_transport_x, y)\n",
    "plt.title(\"Public transport v. House prices\")\n",
    "plt.xlabel(\"Public transport\")\n",
    "plt.ylabel(\"House price\")\n",
    "plt.show()\n",
    "print(f\"The correlation coefficient between house prices and the total number of facilities is {round(st.pearsonr(public_transport_x, y)[0],2)} (slightly positive; very weak)\")"
   ]
  },
  {
   "cell_type": "code",
   "execution_count": 211,
   "id": "277c7cd0",
   "metadata": {},
   "outputs": [
    {
     "data": {
      "image/png": "[encoded data removed]",
      "text/plain": [
       "<Figure size 432x288 with 1 Axes>"
      ]
     },
     "metadata": {
      "needs_background": "light"
     },
     "output_type": "display_data"
    },
    {
     "name": "stdout",
     "output_type": "stream",
     "text": [
      "The correlation coefficient between house prices and the total number of facilities is 0.08 (slightly positive; negligible)\n"
     ]
    }
   ],
   "source": [
    "plt.scatter(office_x, y)\n",
    "plt.title(\"Number of offices v. House prices\")\n",
    "plt.xlabel(\"Number of offices\")\n",
    "plt.ylabel(\"House price\")\n",
    "plt.show()\n",
    "print(f\"The correlation coefficient between house prices and the total number of facilities is {round(st.pearsonr(office_x, y)[0],2)} (slightly positive; negligible)\")"
   ]
  },
  {
   "cell_type": "code",
   "execution_count": 212,
   "id": "41300c85",
   "metadata": {},
   "outputs": [
    {
     "data": {
      "image/png": "[encoded data removed]",
      "text/plain": [
       "<Figure size 432x288 with 1 Axes>"
      ]
     },
     "metadata": {
      "needs_background": "light"
     },
     "output_type": "display_data"
    },
    {
     "name": "stdout",
     "output_type": "stream",
     "text": [
      "The correlation coefficient between house prices and the total number of facilities is -0.41 (negative; weak)\n"
     ]
    }
   ],
   "source": [
    "plt.scatter(natural_x, y)\n",
    "plt.title(\"Number of natural facilities v. House prices\")\n",
    "plt.xlabel(\"Number of natural facilities\")\n",
    "plt.ylabel(\"House price\")\n",
    "plt.show()\n",
    "print(f\"The correlation coefficient between house prices and the total number of facilities is {round(st.pearsonr(natural_x, y)[0],2)} (negative; weak)\")"
   ]
  }
 ],
 "metadata": {
  "kernelspec": {
   "display_name": "Python 3 (ipykernel)",
   "language": "python",
   "name": "python3"
  },
  "language_info": {
   "codemirror_mode": {
    "name": "ipython",
    "version": 3
   },
   "file_extension": ".py",
   "mimetype": "text/x-python",
   "name": "python",
   "nbconvert_exporter": "python",
   "pygments_lexer": "ipython3",
   "version": "3.9.12"
  }
 },
 "nbformat": 4,
 "nbformat_minor": 5
}
